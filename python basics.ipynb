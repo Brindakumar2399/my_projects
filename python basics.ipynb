{
 "cells": [
  {
   "cell_type": "code",
   "execution_count": 2,
   "metadata": {},
   "outputs": [
    {
     "data": {
      "text/plain": [
       "['grape', 'orange']"
      ]
     },
     "execution_count": 2,
     "metadata": {},
     "output_type": "execute_result"
    }
   ],
   "source": [
    "#question no 1\n",
    "A = ['apple', 'orange']\n",
    "B = A\n",
    "B[0] = 'grape'\n",
    "A #value of list A also changes"
   ]
  },
  {
   "cell_type": "code",
   "execution_count": 11,
   "metadata": {},
   "outputs": [
    {
     "name": "stdout",
     "output_type": "stream",
     "text": [
      "['apple', 'orange'] ['grape', 'orange']\n"
     ]
    }
   ],
   "source": [
    "A = ['apple', 'orange']\n",
    "B = A[:] #aliasing\n",
    "B[0] = 'grape'\n",
    "print(A,B) #value of list A does not change because B is a clone of A and only B changes."
   ]
  },
  {
   "cell_type": "code",
   "execution_count": 13,
   "metadata": {},
   "outputs": [
    {
     "name": "stdout",
     "output_type": "stream",
     "text": [
      "100\n",
      "104\n",
      "106\n",
      "110\n",
      "112\n",
      "116\n",
      "118\n",
      "122\n",
      "124\n",
      "128\n",
      "130\n",
      "134\n",
      "136\n",
      "140\n",
      "142\n",
      "146\n",
      "148\n",
      "152\n",
      "154\n",
      "158\n",
      "160\n",
      "164\n",
      "166\n",
      "170\n",
      "172\n",
      "176\n",
      "178\n",
      "182\n",
      "184\n",
      "188\n",
      "190\n",
      "194\n",
      "196\n",
      "200\n"
     ]
    }
   ],
   "source": [
    "#question 2\n",
    "for i in range(100,201):     #range considers from 0 to n-1.\n",
    "  if((i%2==0) and (i%3!=0)): #if its not a multiple of 3, its not a multiple of 6.\n",
    "    print(i)"
   ]
  },
  {
   "cell_type": "code",
   "execution_count": 13,
   "metadata": {},
   "outputs": [
    {
     "name": "stdout",
     "output_type": "stream",
     "text": [
      "[(25, 54), (34, 67, 23, 78), (23, 12), (67, 89, 34, 10)]\n",
      "[(34, 67, 23, 78), (25, 54), (23, 12), (67, 89, 34, 10)]\n"
     ]
    }
   ],
   "source": [
    "#question 3\n",
    "#without taking tuples as input from the user\n",
    "\n",
    "A=[(25,54),(34,67,23,78),(23,12),(67,89,34,10)]\n",
    "print(A)\n",
    "A.sort(key=lambda x:x[-1],reverse=True) #sorting based on last element of tuples in descending order\n",
    "                                        #can also use sorted()\n",
    "    print(A)\n"
   ]
  },
  {
   "cell_type": "code",
   "execution_count": 15,
   "metadata": {},
   "outputs": [
    {
     "name": "stdout",
     "output_type": "stream",
     "text": [
      "[(25, 54), (34, 67, 23, 78), (23, 12), (67, 89, 34, 10)]\n",
      "[(67, 89, 34, 10), (34, 67, 23, 78), (25, 54), (23, 12)]\n"
     ]
    }
   ],
   "source": [
    "A=[(25,54),(34,67,23,78),(23,12),(67,89,34,10)]\n",
    "print(A)\n",
    "A.sort(key=None,reverse=True) #sorting based on length of tuples in descending order\n",
    "print(A)\n"
   ]
  },
  {
   "cell_type": "code",
   "execution_count": 18,
   "metadata": {},
   "outputs": [
    {
     "name": "stdout",
     "output_type": "stream",
     "text": [
      "enter tuples to be sorted:[(25,54),(78,40)]\n",
      "sorted list is:\n",
      "\n",
      "[']', '[', '8', '7', '5', '5', '4', '4', '2', '0', ',', ',', ',', ')', ')', '(', '(']\n"
     ]
    }
   ],
   "source": [
    "#taking tuples as input from the user\n",
    "A=input(\"enter tuples to be sorted:\")\n",
    "def lastelement(ele):\n",
    "   return ele[-1]\n",
    "def sort(tup):\n",
    "  return sorted(tup,key=last,reverse=True) #to sort based on last element of tuple\n",
    "print(\"sorted list is:\\n\")\n",
    "print(sort(A))"
   ]
  },
  {
   "cell_type": "code",
   "execution_count": 20,
   "metadata": {},
   "outputs": [
    {
     "name": "stdout",
     "output_type": "stream",
     "text": [
      "enter tuples to be sorted:[(25, 54), (34, 67, 23, 78), (23, 12), (67, 89, 34, 10)]\n",
      "sorted list is:\n",
      "\n",
      "[']', '[', '9', '8', '8', '7', '7', '7', '6', '6', '5', '5', '4', '4', '4', '3', '3', '3', '3', '2', '2', '2', '2', '1', '1', '0', ',', ',', ',', ',', ',', ',', ',', ',', ',', ',', ',', ')', ')', ')', ')', '(', '(', '(', '(', ' ', ' ', ' ', ' ', ' ', ' ', ' ', ' ', ' ', ' ', ' ']\n"
     ]
    }
   ],
   "source": [
    "A=input(\"enter tuples to be sorted:\")\n",
    "def sort(tup):\n",
    "  return sorted(tup,key=None,reverse=True)  #to sort based on length \n",
    "print(\"sorted list is:\\n\")\n",
    "print(sort(A))"
   ]
  },
  {
   "cell_type": "code",
   "execution_count": 19,
   "metadata": {},
   "outputs": [
    {
     "name": "stdout",
     "output_type": "stream",
     "text": [
      "Enter a string: \n",
      "hi this is yashila\n",
      "Hi This Is Yashila\n"
     ]
    }
   ],
   "source": [
    "#question 4\n",
    "import string\n",
    "A=input(\"Enter a string: \\n\")\n",
    "B=string.capwords(A,sep=None)\n",
    "print(B)\n"
   ]
  },
  {
   "cell_type": "code",
   "execution_count": null,
   "metadata": {},
   "outputs": [],
   "source": [
    "#question 5\n"
   ]
  }
 ],
 "metadata": {
  "kernelspec": {
   "display_name": "Python 3",
   "language": "python",
   "name": "python3"
  },
  "language_info": {
   "codemirror_mode": {
    "name": "ipython",
    "version": 3
   },
   "file_extension": ".py",
   "mimetype": "text/x-python",
   "name": "python",
   "nbconvert_exporter": "python",
   "pygments_lexer": "ipython3",
   "version": "3.7.6"
  }
 },
 "nbformat": 4,
 "nbformat_minor": 4
}
